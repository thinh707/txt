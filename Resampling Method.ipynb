{
 "cells": [
  {
   "cell_type": "markdown",
   "metadata": {},
   "source": [
    "# Exercise 1\n",
    "   In Chapter 4, we used logistic regression to predict the probability of default using income and balance on the Default data set. We will now estimate the test error of this logistic regression model using the validation set approach. Do not forget to set a random seed before beginning your analysis.\n",
    "\n",
    "(a) Fit a logistic regression model that uses income and balance to predict default.\n",
    "\n",
    "(b) Using the validation set approach, estimate the test error of this model. In order to do this, you must perform the following steps:\n",
    "\n",
    "    i. Split the sample set into a training set and a validation set.\n",
    "\n",
    "    ii. Fit a multiple logistic regression model using only the training observations.\n",
    "\n",
    "    iii. Obtain a prediction of default status for each individual in the validation set by computing the posterior probability of default for that individual, and classifying the individual to the default category if the posterior probability is greater than 0.5.\n",
    "\n",
    "    iv. Compute the validation set error, which is the fraction of the observations in the validation set that are misclassified.\n",
    "(c) Repeat the process in (b) three times, using three different splits of the observations into a training set and a validation set. Comment on the results obtained.\n",
    "\n",
    "(d) Now consider a logistic regression model that predicts the probability of default using income, balance, and a dummy variable for student. Estimate the test error for this model using the validation set approach. Comment on whether or not including a dummy variable for student leads to a reduction in the test error rate"
   ]
  },
  {
   "cell_type": "code",
   "execution_count": 7,
   "metadata": {},
   "outputs": [],
   "source": [
    "#install.packages('ISLR')\n",
    "#install.packages('MASS')\n",
    "library(ISLR)\n",
    "attach(Default)"
   ]
  },
  {
   "cell_type": "code",
   "execution_count": 8,
   "metadata": {
    "collapsed": true
   },
   "outputs": [
    {
     "data": {
      "text/html": [
       "<table>\n",
       "<caption>A data.frame: 15 × 4</caption>\n",
       "<thead>\n",
       "\t<tr><th></th><th scope=col>default</th><th scope=col>student</th><th scope=col>balance</th><th scope=col>income</th></tr>\n",
       "\t<tr><th></th><th scope=col>&lt;fct&gt;</th><th scope=col>&lt;fct&gt;</th><th scope=col>&lt;dbl&gt;</th><th scope=col>&lt;dbl&gt;</th></tr>\n",
       "</thead>\n",
       "<tbody>\n",
       "\t<tr><th scope=row>1</th><td>No</td><td>No </td><td> 729.5265</td><td>44361.625</td></tr>\n",
       "\t<tr><th scope=row>2</th><td>No</td><td>Yes</td><td> 817.1804</td><td>12106.135</td></tr>\n",
       "\t<tr><th scope=row>3</th><td>No</td><td>No </td><td>1073.5492</td><td>31767.139</td></tr>\n",
       "\t<tr><th scope=row>4</th><td>No</td><td>No </td><td> 529.2506</td><td>35704.494</td></tr>\n",
       "\t<tr><th scope=row>5</th><td>No</td><td>No </td><td> 785.6559</td><td>38463.496</td></tr>\n",
       "\t<tr><th scope=row>6</th><td>No</td><td>Yes</td><td> 919.5885</td><td> 7491.559</td></tr>\n",
       "\t<tr><th scope=row>7</th><td>No</td><td>No </td><td> 825.5133</td><td>24905.227</td></tr>\n",
       "\t<tr><th scope=row>8</th><td>No</td><td>Yes</td><td> 808.6675</td><td>17600.451</td></tr>\n",
       "\t<tr><th scope=row>9</th><td>No</td><td>No </td><td>1161.0579</td><td>37468.529</td></tr>\n",
       "\t<tr><th scope=row>10</th><td>No</td><td>No </td><td>   0.0000</td><td>29275.268</td></tr>\n",
       "\t<tr><th scope=row>11</th><td>No</td><td>Yes</td><td>   0.0000</td><td>21871.073</td></tr>\n",
       "\t<tr><th scope=row>12</th><td>No</td><td>Yes</td><td>1220.5838</td><td>13268.562</td></tr>\n",
       "\t<tr><th scope=row>13</th><td>No</td><td>No </td><td> 237.0451</td><td>28251.695</td></tr>\n",
       "\t<tr><th scope=row>14</th><td>No</td><td>No </td><td> 606.7423</td><td>44994.556</td></tr>\n",
       "\t<tr><th scope=row>15</th><td>No</td><td>No </td><td>1112.9684</td><td>23810.174</td></tr>\n",
       "</tbody>\n",
       "</table>\n"
      ],
      "text/latex": [
       "A data.frame: 15 × 4\n",
       "\\begin{tabular}{r|llll}\n",
       "  & default & student & balance & income\\\\\n",
       "  & <fct> & <fct> & <dbl> & <dbl>\\\\\n",
       "\\hline\n",
       "\t1 & No & No  &  729.5265 & 44361.625\\\\\n",
       "\t2 & No & Yes &  817.1804 & 12106.135\\\\\n",
       "\t3 & No & No  & 1073.5492 & 31767.139\\\\\n",
       "\t4 & No & No  &  529.2506 & 35704.494\\\\\n",
       "\t5 & No & No  &  785.6559 & 38463.496\\\\\n",
       "\t6 & No & Yes &  919.5885 &  7491.559\\\\\n",
       "\t7 & No & No  &  825.5133 & 24905.227\\\\\n",
       "\t8 & No & Yes &  808.6675 & 17600.451\\\\\n",
       "\t9 & No & No  & 1161.0579 & 37468.529\\\\\n",
       "\t10 & No & No  &    0.0000 & 29275.268\\\\\n",
       "\t11 & No & Yes &    0.0000 & 21871.073\\\\\n",
       "\t12 & No & Yes & 1220.5838 & 13268.562\\\\\n",
       "\t13 & No & No  &  237.0451 & 28251.695\\\\\n",
       "\t14 & No & No  &  606.7423 & 44994.556\\\\\n",
       "\t15 & No & No  & 1112.9684 & 23810.174\\\\\n",
       "\\end{tabular}\n"
      ],
      "text/markdown": [
       "\n",
       "A data.frame: 15 × 4\n",
       "\n",
       "| <!--/--> | default &lt;fct&gt; | student &lt;fct&gt; | balance &lt;dbl&gt; | income &lt;dbl&gt; |\n",
       "|---|---|---|---|---|\n",
       "| 1 | No | No  |  729.5265 | 44361.625 |\n",
       "| 2 | No | Yes |  817.1804 | 12106.135 |\n",
       "| 3 | No | No  | 1073.5492 | 31767.139 |\n",
       "| 4 | No | No  |  529.2506 | 35704.494 |\n",
       "| 5 | No | No  |  785.6559 | 38463.496 |\n",
       "| 6 | No | Yes |  919.5885 |  7491.559 |\n",
       "| 7 | No | No  |  825.5133 | 24905.227 |\n",
       "| 8 | No | Yes |  808.6675 | 17600.451 |\n",
       "| 9 | No | No  | 1161.0579 | 37468.529 |\n",
       "| 10 | No | No  |    0.0000 | 29275.268 |\n",
       "| 11 | No | Yes |    0.0000 | 21871.073 |\n",
       "| 12 | No | Yes | 1220.5838 | 13268.562 |\n",
       "| 13 | No | No  |  237.0451 | 28251.695 |\n",
       "| 14 | No | No  |  606.7423 | 44994.556 |\n",
       "| 15 | No | No  | 1112.9684 | 23810.174 |\n",
       "\n"
      ],
      "text/plain": [
       "   default student balance   income   \n",
       "1  No      No       729.5265 44361.625\n",
       "2  No      Yes      817.1804 12106.135\n",
       "3  No      No      1073.5492 31767.139\n",
       "4  No      No       529.2506 35704.494\n",
       "5  No      No       785.6559 38463.496\n",
       "6  No      Yes      919.5885  7491.559\n",
       "7  No      No       825.5133 24905.227\n",
       "8  No      Yes      808.6675 17600.451\n",
       "9  No      No      1161.0579 37468.529\n",
       "10 No      No         0.0000 29275.268\n",
       "11 No      Yes        0.0000 21871.073\n",
       "12 No      Yes     1220.5838 13268.562\n",
       "13 No      No       237.0451 28251.695\n",
       "14 No      No       606.7423 44994.556\n",
       "15 No      No      1112.9684 23810.174"
      ]
     },
     "metadata": {},
     "output_type": "display_data"
    }
   ],
   "source": [
    "head(Default,15)"
   ]
  },
  {
   "cell_type": "code",
   "execution_count": 9,
   "metadata": {},
   "outputs": [
    {
     "name": "stdout",
     "output_type": "stream",
     "text": [
      "The sum of missing value: 0"
     ]
    }
   ],
   "source": [
    "cat('The sum of missing value:',sum(is.na(Default)))"
   ]
  },
  {
   "cell_type": "markdown",
   "metadata": {},
   "source": [
    "### (a) Fit a logistic regression model that uses income and balance to predict default."
   ]
  },
  {
   "cell_type": "code",
   "execution_count": 13,
   "metadata": {
    "collapsed": true
   },
   "outputs": [
    {
     "data": {
      "text/plain": [
       "\n",
       "Call:\n",
       "glm(formula = default ~ income + balance, family = \"binomial\", \n",
       "    data = Default)\n",
       "\n",
       "Deviance Residuals: \n",
       "    Min       1Q   Median       3Q      Max  \n",
       "-2.4725  -0.1444  -0.0574  -0.0211   3.7245  \n",
       "\n",
       "Coefficients:\n",
       "              Estimate Std. Error z value Pr(>|z|)    \n",
       "(Intercept) -1.154e+01  4.348e-01 -26.545  < 2e-16 ***\n",
       "income       2.081e-05  4.985e-06   4.174 2.99e-05 ***\n",
       "balance      5.647e-03  2.274e-04  24.836  < 2e-16 ***\n",
       "---\n",
       "Signif. codes:  0 '***' 0.001 '**' 0.01 '*' 0.05 '.' 0.1 ' ' 1\n",
       "\n",
       "(Dispersion parameter for binomial family taken to be 1)\n",
       "\n",
       "    Null deviance: 2920.6  on 9999  degrees of freedom\n",
       "Residual deviance: 1579.0  on 9997  degrees of freedom\n",
       "AIC: 1585\n",
       "\n",
       "Number of Fisher Scoring iterations: 8\n"
      ]
     },
     "metadata": {},
     "output_type": "display_data"
    }
   ],
   "source": [
    "log_res = glm(default ~ income + balance,data = Default,family = \"binomial\")\n",
    "summary(log_res)"
   ]
  },
  {
   "cell_type": "markdown",
   "metadata": {},
   "source": [
    "### (b) Using the validation set approach, estimate the test error of this model. In order to do this, you must perform the following steps:\n",
    "\n",
    "   #### i. Split the sample set into a training set and a validation set."
   ]
  },
  {
   "cell_type": "code",
   "execution_count": 15,
   "metadata": {},
   "outputs": [
    {
     "name": "stdout",
     "output_type": "stream",
     "text": [
      "The sum of rows of Auto data: 10000\n",
      "The sum of rows of training data: 7500\n",
      "The sum of rows of testing data: 2500"
     ]
    }
   ],
   "source": [
    "num_train <- nrow(Default) * 0.75\n",
    "in_train <- sample(nrow(Default),num_train)\n",
    "training <- Default[in_train,]\n",
    "testing <- Default[-in_train,]\n",
    "cat('The sum of rows of Auto data:',nrow(Default))\n",
    "cat('\\nThe sum of rows of training data:',nrow(training))\n",
    "cat('\\nThe sum of rows of testing data:',nrow(testing))\n"
   ]
  },
  {
   "cell_type": "markdown",
   "metadata": {},
   "source": [
    "#### ii. Fit a multiple logistic regression model using only the training observations."
   ]
  },
  {
   "cell_type": "code",
   "execution_count": 18,
   "metadata": {},
   "outputs": [
    {
     "data": {
      "text/plain": [
       "\n",
       "Call:\n",
       "glm(formula = default ~ income + balance, family = \"binomial\", \n",
       "    data = training)\n",
       "\n",
       "Deviance Residuals: \n",
       "    Min       1Q   Median       3Q      Max  \n",
       "-2.2186  -0.1478  -0.0590  -0.0217   3.7082  \n",
       "\n",
       "Coefficients:\n",
       "              Estimate Std. Error z value Pr(>|z|)    \n",
       "(Intercept) -1.146e+01  4.984e-01 -23.001  < 2e-16 ***\n",
       "income       2.081e-05  5.669e-06   3.671 0.000241 ***\n",
       "balance      5.624e-03  2.612e-04  21.527  < 2e-16 ***\n",
       "---\n",
       "Signif. codes:  0 '***' 0.001 '**' 0.01 '*' 0.05 '.' 0.1 ' ' 1\n",
       "\n",
       "(Dispersion parameter for binomial family taken to be 1)\n",
       "\n",
       "    Null deviance: 2205.6  on 7499  degrees of freedom\n",
       "Residual deviance: 1214.7  on 7497  degrees of freedom\n",
       "AIC: 1220.7\n",
       "\n",
       "Number of Fisher Scoring iterations: 8\n"
      ]
     },
     "metadata": {},
     "output_type": "display_data"
    }
   ],
   "source": [
    "log_res1 = glm(default ~ income + balance,data = training , family = \"binomial\")\n",
    "summary(log_res1)"
   ]
  },
  {
   "cell_type": "markdown",
   "metadata": {},
   "source": [
    "#### iii. Obtain a prediction of default status for each individual in the validation set by computing the posterior probability of default for that individual, and classifying the individual to the default category if the posterior probability is greater than 0.5."
   ]
  },
  {
   "cell_type": "code",
   "execution_count": 22,
   "metadata": {},
   "outputs": [
    {
     "data": {
      "text/html": [
       "<style>\n",
       ".list-inline {list-style: none; margin:0; padding: 0}\n",
       ".list-inline>li {display: inline-block}\n",
       ".list-inline>li:not(:last-child)::after {content: \"\\00b7\"; padding: 0 .5ex}\n",
       "</style>\n",
       "<ol class=list-inline><li>'No'</li><li>'No'</li><li>'No'</li><li>'No'</li><li>'No'</li><li>'No'</li><li>'No'</li><li>'No'</li><li>'No'</li><li>'No'</li></ol>\n"
      ],
      "text/latex": [
       "\\begin{enumerate*}\n",
       "\\item 'No'\n",
       "\\item 'No'\n",
       "\\item 'No'\n",
       "\\item 'No'\n",
       "\\item 'No'\n",
       "\\item 'No'\n",
       "\\item 'No'\n",
       "\\item 'No'\n",
       "\\item 'No'\n",
       "\\item 'No'\n",
       "\\end{enumerate*}\n"
      ],
      "text/markdown": [
       "1. 'No'\n",
       "2. 'No'\n",
       "3. 'No'\n",
       "4. 'No'\n",
       "5. 'No'\n",
       "6. 'No'\n",
       "7. 'No'\n",
       "8. 'No'\n",
       "9. 'No'\n",
       "10. 'No'\n",
       "\n",
       "\n"
      ],
      "text/plain": [
       " [1] \"No\" \"No\" \"No\" \"No\" \"No\" \"No\" \"No\" \"No\" \"No\" \"No\""
      ]
     },
     "metadata": {},
     "output_type": "display_data"
    }
   ],
   "source": [
    "probs <- predict(log_res1, testing, type = \"response\")\n",
    "pred.glm <- rep(\"No\", length(probs))\n",
    "pred.glm[probs > 0.5] <- \"Yes\"\n",
    "head(pred.glm,10)"
   ]
  },
  {
   "cell_type": "markdown",
   "metadata": {},
   "source": [
    "#### iv. Compute the validation set error, which is the fraction of the observations in the validation set that are misclassified."
   ]
  },
  {
   "cell_type": "code",
   "execution_count": 24,
   "metadata": {},
   "outputs": [
    {
     "name": "stdout",
     "output_type": "stream",
     "text": [
      "Accuracy: 0.0248"
     ]
    }
   ],
   "source": [
    "cat('Accuracy:',mean(pred.glm != testing$default))"
   ]
  },
  {
   "cell_type": "markdown",
   "metadata": {},
   "source": [
    "### (c) Repeat the process in (b) three times, using three different splits of the observations into a training set and a validation set. Comment on the results obtained."
   ]
  },
  {
   "cell_type": "code",
   "execution_count": 30,
   "metadata": {},
   "outputs": [
    {
     "name": "stdout",
     "output_type": "stream",
     "text": [
      "The test error rate with the validation set approach 1: 0.0252"
     ]
    }
   ],
   "source": [
    "num_train <- nrow(Default) * 0.75\n",
    "in_train <- sample(nrow(Default),num_train)\n",
    "training <- Default[in_train,]\n",
    "testing <- Default[-in_train,]\n",
    "\n",
    "log_res1 = glm(default ~ income + balance,data = training , family = \"binomial\")\n",
    "probs <- predict(log_res1, testing, type = \"response\")\n",
    "pred.glm <- rep(\"No\", length(probs))\n",
    "pred.glm[probs > 0.5] <- \"Yes\"\n",
    "cat('The test error rate with the validation set approach 1:',mean(pred.glm != testing$default))"
   ]
  },
  {
   "cell_type": "code",
   "execution_count": 35,
   "metadata": {},
   "outputs": [
    {
     "name": "stdout",
     "output_type": "stream",
     "text": [
      "The test error rate with the validation set approach 2: 0.0264"
     ]
    }
   ],
   "source": [
    "num_train <- nrow(Default) * 0.75\n",
    "in_train <- sample(nrow(Default),num_train)\n",
    "training <- Default[in_train,]\n",
    "testing <- Default[-in_train,]\n",
    "\n",
    "log_res1 = glm(default ~ income + balance,data = training , family = \"binomial\")\n",
    "probs <- predict(log_res1, testing, type = \"response\")\n",
    "pred.glm <- rep(\"No\", length(probs))\n",
    "pred.glm[probs > 0.5] <- \"Yes\"\n",
    "cat('The test error rate with the validation set approach 2:',mean(pred.glm != testing$default))"
   ]
  },
  {
   "cell_type": "code",
   "execution_count": 34,
   "metadata": {},
   "outputs": [
    {
     "name": "stdout",
     "output_type": "stream",
     "text": [
      "The test error rate with the validation set approach 3: 0.0256"
     ]
    }
   ],
   "source": [
    "num_train <- nrow(Default) * 0.75\n",
    "in_train <- sample(nrow(Default),num_train)\n",
    "training <- Default[in_train,]\n",
    "testing <- Default[-in_train,]\n",
    "\n",
    "log_res1 = glm(default ~ income + balance,data = training , family = \"binomial\")\n",
    "probs <- predict(log_res1, testing, type = \"response\")\n",
    "pred.glm <- rep(\"No\", length(probs))\n",
    "pred.glm[probs > 0.5] <- \"Yes\"\n",
    "cat('The test error rate with the validation set approach 3:',mean(pred.glm != testing$default))"
   ]
  },
  {
   "cell_type": "markdown",
   "metadata": {},
   "source": [
    "We see that the validation estimate of the test error rate can be variable, depending on precisely which observations are included in the training set and which observations are included in the validation set."
   ]
  },
  {
   "cell_type": "code",
   "execution_count": 36,
   "metadata": {},
   "outputs": [
    {
     "name": "stdout",
     "output_type": "stream",
     "text": [
      "The test error rate with the validation set approach: 0.0256"
     ]
    }
   ],
   "source": [
    "num_train <- nrow(Default) * 0.75\n",
    "in_train <- sample(nrow(Default),num_train)\n",
    "training <- Default[in_train,]\n",
    "testing <- Default[-in_train,]\n",
    "\n",
    "log_res1 = glm(default ~ income + balance + student,data = training , family = \"binomial\")\n",
    "probs <- predict(log_res1, testing, type = \"response\")\n",
    "pred.glm <- rep(\"No\", length(probs))\n",
    "pred.glm[probs > 0.5] <- \"Yes\"\n",
    "cat('The test error rate with the validation set approach:',mean(pred.glm != testing$default))"
   ]
  },
  {
   "cell_type": "markdown",
   "metadata": {},
   "source": [
    "# Exercise 2 \n",
    " We continue to consider the use of a logistic regression model to predict the probability of default using income and balance on the Default data set. In particular, we will now compute estimates for the standard errors of the income and balance logistic regression coefficients in two different ways: (1) using the bootstrap, and (2) using the standard formula for computing the standard errors in the glm() function. Do not forget to set a random seed before beginning your analysis.\n",
    "\n",
    "(a) Using the summary() and glm() functions, determine the estimated standard errors for the coefficients associated with income and balance in a multiple logistic regression model that uses both predictors.\n",
    "\n",
    "(b) Write a function, boot.fn(), that takes as input the Default data set as well as an index of the observations, and that outputs the coefficient estimates for income and balance in the multiple logistic regression model.\n",
    "\n",
    "(c) Use the boot() function together with your boot.fn() function to estimate the standard errors of the logistic regression coefficients for income and balance.\n",
    "\n",
    "(d) Comment on the estimated standard errors obtained using the glm() function and using your bootstrap function."
   ]
  },
  {
   "cell_type": "markdown",
   "metadata": {},
   "source": [
    "### (a) Using the summary() and glm() functions, determine the estimated standard errors for the coefficients associated with income and balance in a multiple logistic regression model that uses both predictors.\n"
   ]
  },
  {
   "cell_type": "code",
   "execution_count": 38,
   "metadata": {},
   "outputs": [
    {
     "data": {
      "text/plain": [
       "\n",
       "Call:\n",
       "glm(formula = default ~ income + balance, family = binomial, \n",
       "    data = Default)\n",
       "\n",
       "Deviance Residuals: \n",
       "    Min       1Q   Median       3Q      Max  \n",
       "-2.4725  -0.1444  -0.0574  -0.0211   3.7245  \n",
       "\n",
       "Coefficients:\n",
       "              Estimate Std. Error z value Pr(>|z|)    \n",
       "(Intercept) -1.154e+01  4.348e-01 -26.545  < 2e-16 ***\n",
       "income       2.081e-05  4.985e-06   4.174 2.99e-05 ***\n",
       "balance      5.647e-03  2.274e-04  24.836  < 2e-16 ***\n",
       "---\n",
       "Signif. codes:  0 '***' 0.001 '**' 0.01 '*' 0.05 '.' 0.1 ' ' 1\n",
       "\n",
       "(Dispersion parameter for binomial family taken to be 1)\n",
       "\n",
       "    Null deviance: 2920.6  on 9999  degrees of freedom\n",
       "Residual deviance: 1579.0  on 9997  degrees of freedom\n",
       "AIC: 1585\n",
       "\n",
       "Number of Fisher Scoring iterations: 8\n"
      ]
     },
     "metadata": {},
     "output_type": "display_data"
    }
   ],
   "source": [
    "set.seed(1)\n",
    "lr<-glm(default~income+balance,family = binomial,data=Default)\n",
    "summary(lr)"
   ]
  },
  {
   "cell_type": "markdown",
   "metadata": {},
   "source": [
    "### (b) Write a function, boot.fn(), that takes as input the Default data set as well as an index of the observations, and that outputs the coefficient estimates for income and balance in the multiple logistic regression model."
   ]
  },
  {
   "cell_type": "code",
   "execution_count": 39,
   "metadata": {},
   "outputs": [],
   "source": [
    "boot.fn<-function(data,index){\n",
    "  fit<-glm(default~income+balance,data=data,family=\"binomial\",subset=index)\n",
    "  return(coef(fit))\n",
    "}"
   ]
  },
  {
   "cell_type": "markdown",
   "metadata": {},
   "source": [
    "### (c) Use the boot() function together with your boot.fn() function to estimate the standard errors of the logistic regression coefficients for income and balance."
   ]
  },
  {
   "cell_type": "code",
   "execution_count": 42,
   "metadata": {},
   "outputs": [
    {
     "data": {
      "text/plain": [
       "\n",
       "ORDINARY NONPARAMETRIC BOOTSTRAP\n",
       "\n",
       "\n",
       "Call:\n",
       "boot(data = Default, statistic = boot.fn, R = 100)\n",
       "\n",
       "\n",
       "Bootstrap Statistics :\n",
       "         original        bias     std. error\n",
       "t1* -1.154047e+01  1.335891e-02 3.967262e-01\n",
       "t2*  2.080898e-05  4.875168e-08 4.997011e-06\n",
       "t3*  5.647103e-03 -1.054066e-05 2.226478e-04"
      ]
     },
     "metadata": {},
     "output_type": "display_data"
    }
   ],
   "source": [
    "library(boot)\n",
    "boot(Default,boot.fn,100)"
   ]
  },
  {
   "cell_type": "markdown",
   "metadata": {},
   "source": [
    "### (d) Comment on the estimated standard errors obtained using the glm() function and using your bootstrap function."
   ]
  },
  {
   "cell_type": "markdown",
   "metadata": {},
   "source": [
    " <img src=\"https://scontent.fsgn9-1.fna.fbcdn.net/v/t1.15752-9/100836358_3000001623419459_1001600344955813888_n.png?_nc_cat=108&_nc_sid=b96e70&_nc_ohc=z8LsgpZd1JcAX8meF7E&_nc_ht=scontent.fsgn9-1.fna&oh=9c036388270833764858d91a9f5c4d8d&oe=5EFBFD71\">"
   ]
  },
  {
   "cell_type": "markdown",
   "metadata": {},
   "source": [
    "The standard error of coefficient estimates found from two methods are pretty close"
   ]
  }
 ],
 "metadata": {
  "kernelspec": {
   "display_name": "R",
   "language": "R",
   "name": "ir"
  },
  "language_info": {
   "codemirror_mode": "r",
   "file_extension": ".r",
   "mimetype": "text/x-r-source",
   "name": "R",
   "pygments_lexer": "r",
   "version": "3.6.3"
  }
 },
 "nbformat": 4,
 "nbformat_minor": 2
}
