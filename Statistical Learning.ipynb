{
 "cells": [
  {
   "cell_type": "markdown",
   "metadata": {},
   "source": [
    "<div id = \"top\">\n",
    "    <h3>STATISTICAL LEARNING - BASIC COMPUTER DATA</h3><br>\n",
    "<li>Name: 18_Nguyen Van Thinh </li>\n",
    "<li>SC: 43.01.104.168</li></div>"
   ]
  },
  {
   "cell_type": "markdown",
   "metadata": {},
   "source": [
    "<div id=\"h_1\">\n",
    "    <h3>1.Data Introduction</h3><br>\n",
    "    <li>Bộ dữ liệu này lấy từ <a herf='https://www.kaggle.com/kingburrito666/basic-computer-data-set?fbclid=IwAR3SO1LlqDwuV7esqV6FzxQ60Hg83mi68_OyD6ZG7oiMrs-dLO7FUNB9vAc'>Kaggle</a> nó là bộ dữ liệu cơ bản về các thông số của máy tính để dự đoán giá thành của nó.</li>\n",
    "    <li>Bộ dữ liệu này gồm 6259 dòng và 10 cột.</li>\n",
    "    <li>Với các features là: price, speed, hd, ram, screen, cd, multim, premium, ads, trend.</li>\n",
    "    <li>Trong đó:</li>\n",
    "    <ul>\n",
    "        <li>Target là price.</li>\n",
    "        <li>Bảy biến numberic là price, speed, hd, ram, screen, ads và trend. </li>\n",
    "        <li>Ba biến categorical là cd, multi, và premium </li>\n",
    "    </ul>\n",
    "</div>"
   ]
  },
  {
   "cell_type": "markdown",
   "metadata": {},
   "source": [
    "<div id=\"h_2\">\n",
    "    <h3>2. Data exploration </h3><br>\n",
    "    \n",
    "</div>"
   ]
  },
  {
   "cell_type": "code",
   "execution_count": 49,
   "metadata": {},
   "outputs": [
    {
     "ename": "ERROR",
     "evalue": "Error in loadNamespace(name): there is no package called 'knitr'\n",
     "output_type": "error",
     "traceback": [
      "Error in loadNamespace(name): there is no package called 'knitr'\nTraceback:\n",
      "1. knitr::opts_chunk",
      "2. getExportedValue(pkg, name)",
      "3. asNamespace(ns)",
      "4. getNamespace(ns)",
      "5. loadNamespace(name)",
      "6. withRestarts(stop(cond), retry_loadNamespace = function() NULL)",
      "7. withOneRestart(expr, restarts[[1L]])",
      "8. doWithOneRestart(return(expr), restart)"
     ]
    }
   ],
   "source": [
    "knitr::opts_chunk$set(message=FALSE,warning=FALSE)"
   ]
  },
  {
   "cell_type": "code",
   "execution_count": 79,
   "metadata": {
    "collapsed": true
   },
   "outputs": [
    {
     "name": "stderr",
     "output_type": "stream",
     "text": [
      "\n",
      "********************************************************\n",
      "\n",
      "Note: As of version 1.0.0, cowplot does not change the\n",
      "\n",
      "  default ggplot2 theme anymore. To recover the previous\n",
      "\n",
      "  behavior, execute:\n",
      "  theme_set(theme_cowplot())\n",
      "\n",
      "********************************************************\n",
      "\n",
      "\n"
     ]
    }
   ],
   "source": [
    "#load packages\n",
    "library(ggplot2)\n",
    "library(dplyr)\n",
    "library(gridExtra)\n",
    "library(corrplot)\n",
    "library(corrgram)\n",
    "library(caret)\n",
    "library(psych)\n",
    "library(cowplot)"
   ]
  },
  {
   "cell_type": "code",
   "execution_count": 75,
   "metadata": {},
   "outputs": [
    {
     "data": {
      "text/html": [
       "<table>\n",
       "<caption>A data.frame: 10 × 11</caption>\n",
       "<thead>\n",
       "\t<tr><th></th><th scope=col>X</th><th scope=col>price</th><th scope=col>speed</th><th scope=col>hd</th><th scope=col>ram</th><th scope=col>screen</th><th scope=col>cd</th><th scope=col>multi</th><th scope=col>premium</th><th scope=col>ads</th><th scope=col>trend</th></tr>\n",
       "\t<tr><th></th><th scope=col>&lt;int&gt;</th><th scope=col>&lt;int&gt;</th><th scope=col>&lt;int&gt;</th><th scope=col>&lt;int&gt;</th><th scope=col>&lt;int&gt;</th><th scope=col>&lt;int&gt;</th><th scope=col>&lt;fct&gt;</th><th scope=col>&lt;fct&gt;</th><th scope=col>&lt;fct&gt;</th><th scope=col>&lt;int&gt;</th><th scope=col>&lt;int&gt;</th></tr>\n",
       "</thead>\n",
       "<tbody>\n",
       "\t<tr><th scope=row>1</th><td> 1</td><td>1499</td><td>25</td><td> 80</td><td> 4</td><td>14</td><td>no </td><td>no</td><td>yes</td><td>94</td><td>1</td></tr>\n",
       "\t<tr><th scope=row>2</th><td> 2</td><td>1795</td><td>33</td><td> 85</td><td> 2</td><td>14</td><td>no </td><td>no</td><td>yes</td><td>94</td><td>1</td></tr>\n",
       "\t<tr><th scope=row>3</th><td> 3</td><td>1595</td><td>25</td><td>170</td><td> 4</td><td>15</td><td>no </td><td>no</td><td>yes</td><td>94</td><td>1</td></tr>\n",
       "\t<tr><th scope=row>4</th><td> 4</td><td>1849</td><td>25</td><td>170</td><td> 8</td><td>14</td><td>no </td><td>no</td><td>no </td><td>94</td><td>1</td></tr>\n",
       "\t<tr><th scope=row>5</th><td> 5</td><td>3295</td><td>33</td><td>340</td><td>16</td><td>14</td><td>no </td><td>no</td><td>yes</td><td>94</td><td>1</td></tr>\n",
       "\t<tr><th scope=row>6</th><td> 6</td><td>3695</td><td>66</td><td>340</td><td>16</td><td>14</td><td>no </td><td>no</td><td>yes</td><td>94</td><td>1</td></tr>\n",
       "\t<tr><th scope=row>7</th><td> 7</td><td>1720</td><td>25</td><td>170</td><td> 4</td><td>14</td><td>yes</td><td>no</td><td>yes</td><td>94</td><td>1</td></tr>\n",
       "\t<tr><th scope=row>8</th><td> 8</td><td>1995</td><td>50</td><td> 85</td><td> 2</td><td>14</td><td>no </td><td>no</td><td>yes</td><td>94</td><td>1</td></tr>\n",
       "\t<tr><th scope=row>9</th><td> 9</td><td>2225</td><td>50</td><td>210</td><td> 8</td><td>14</td><td>no </td><td>no</td><td>yes</td><td>94</td><td>1</td></tr>\n",
       "\t<tr><th scope=row>10</th><td>10</td><td>2575</td><td>50</td><td>210</td><td> 4</td><td>15</td><td>no </td><td>no</td><td>yes</td><td>94</td><td>1</td></tr>\n",
       "</tbody>\n",
       "</table>\n"
      ],
      "text/latex": [
       "A data.frame: 10 × 11\n",
       "\\begin{tabular}{r|lllllllllll}\n",
       "  & X & price & speed & hd & ram & screen & cd & multi & premium & ads & trend\\\\\n",
       "  & <int> & <int> & <int> & <int> & <int> & <int> & <fct> & <fct> & <fct> & <int> & <int>\\\\\n",
       "\\hline\n",
       "\t1 &  1 & 1499 & 25 &  80 &  4 & 14 & no  & no & yes & 94 & 1\\\\\n",
       "\t2 &  2 & 1795 & 33 &  85 &  2 & 14 & no  & no & yes & 94 & 1\\\\\n",
       "\t3 &  3 & 1595 & 25 & 170 &  4 & 15 & no  & no & yes & 94 & 1\\\\\n",
       "\t4 &  4 & 1849 & 25 & 170 &  8 & 14 & no  & no & no  & 94 & 1\\\\\n",
       "\t5 &  5 & 3295 & 33 & 340 & 16 & 14 & no  & no & yes & 94 & 1\\\\\n",
       "\t6 &  6 & 3695 & 66 & 340 & 16 & 14 & no  & no & yes & 94 & 1\\\\\n",
       "\t7 &  7 & 1720 & 25 & 170 &  4 & 14 & yes & no & yes & 94 & 1\\\\\n",
       "\t8 &  8 & 1995 & 50 &  85 &  2 & 14 & no  & no & yes & 94 & 1\\\\\n",
       "\t9 &  9 & 2225 & 50 & 210 &  8 & 14 & no  & no & yes & 94 & 1\\\\\n",
       "\t10 & 10 & 2575 & 50 & 210 &  4 & 15 & no  & no & yes & 94 & 1\\\\\n",
       "\\end{tabular}\n"
      ],
      "text/markdown": [
       "\n",
       "A data.frame: 10 × 11\n",
       "\n",
       "| <!--/--> | X &lt;int&gt; | price &lt;int&gt; | speed &lt;int&gt; | hd &lt;int&gt; | ram &lt;int&gt; | screen &lt;int&gt; | cd &lt;fct&gt; | multi &lt;fct&gt; | premium &lt;fct&gt; | ads &lt;int&gt; | trend &lt;int&gt; |\n",
       "|---|---|---|---|---|---|---|---|---|---|---|---|\n",
       "| 1 |  1 | 1499 | 25 |  80 |  4 | 14 | no  | no | yes | 94 | 1 |\n",
       "| 2 |  2 | 1795 | 33 |  85 |  2 | 14 | no  | no | yes | 94 | 1 |\n",
       "| 3 |  3 | 1595 | 25 | 170 |  4 | 15 | no  | no | yes | 94 | 1 |\n",
       "| 4 |  4 | 1849 | 25 | 170 |  8 | 14 | no  | no | no  | 94 | 1 |\n",
       "| 5 |  5 | 3295 | 33 | 340 | 16 | 14 | no  | no | yes | 94 | 1 |\n",
       "| 6 |  6 | 3695 | 66 | 340 | 16 | 14 | no  | no | yes | 94 | 1 |\n",
       "| 7 |  7 | 1720 | 25 | 170 |  4 | 14 | yes | no | yes | 94 | 1 |\n",
       "| 8 |  8 | 1995 | 50 |  85 |  2 | 14 | no  | no | yes | 94 | 1 |\n",
       "| 9 |  9 | 2225 | 50 | 210 |  8 | 14 | no  | no | yes | 94 | 1 |\n",
       "| 10 | 10 | 2575 | 50 | 210 |  4 | 15 | no  | no | yes | 94 | 1 |\n",
       "\n"
      ],
      "text/plain": [
       "   X  price speed hd  ram screen cd  multi premium ads trend\n",
       "1   1 1499  25     80  4  14     no  no    yes     94  1    \n",
       "2   2 1795  33     85  2  14     no  no    yes     94  1    \n",
       "3   3 1595  25    170  4  15     no  no    yes     94  1    \n",
       "4   4 1849  25    170  8  14     no  no    no      94  1    \n",
       "5   5 3295  33    340 16  14     no  no    yes     94  1    \n",
       "6   6 3695  66    340 16  14     no  no    yes     94  1    \n",
       "7   7 1720  25    170  4  14     yes no    yes     94  1    \n",
       "8   8 1995  50     85  2  14     no  no    yes     94  1    \n",
       "9   9 2225  50    210  8  14     no  no    yes     94  1    \n",
       "10 10 2575  50    210  4  15     no  no    yes     94  1    "
      ]
     },
     "metadata": {},
     "output_type": "display_data"
    }
   ],
   "source": [
    "cp <- read.csv(file = 'Computers.csv', header=T) # Read file Computers.csv\n",
    "head(cp,10) # First 10 rows of dataset"
   ]
  },
  {
   "cell_type": "code",
   "execution_count": 30,
   "metadata": {},
   "outputs": [
    {
     "data": {
      "text/html": [
       "FALSE"
      ],
      "text/latex": [
       "FALSE"
      ],
      "text/markdown": [
       "FALSE"
      ],
      "text/plain": [
       "[1] FALSE"
      ]
     },
     "metadata": {},
     "output_type": "display_data"
    }
   ],
   "source": [
    "any(is.na(cp)) # check NaN"
   ]
  },
  {
   "cell_type": "markdown",
   "metadata": {},
   "source": [
    "FAlSE là trong data có đầy đủ dữ liệu và không có các giá trị NaN"
   ]
  },
  {
   "cell_type": "code",
   "execution_count": 32,
   "metadata": {},
   "outputs": [
    {
     "data": {
      "text/plain": [
       "     price          speed              hd              ram        \n",
       " Min.   : 949   Min.   : 25.00   Min.   :  80.0   Min.   : 2.000  \n",
       " 1st Qu.:1794   1st Qu.: 33.00   1st Qu.: 214.0   1st Qu.: 4.000  \n",
       " Median :2144   Median : 50.00   Median : 340.0   Median : 8.000  \n",
       " Mean   :2220   Mean   : 52.01   Mean   : 416.6   Mean   : 8.287  \n",
       " 3rd Qu.:2595   3rd Qu.: 66.00   3rd Qu.: 528.0   3rd Qu.: 8.000  \n",
       " Max.   :5399   Max.   :100.00   Max.   :2100.0   Max.   :32.000  \n",
       "     screen        cd       multi      premium         ads       \n",
       " Min.   :14.00   no :3351   no :5386   no : 612   Min.   : 39.0  \n",
       " 1st Qu.:14.00   yes:2908   yes: 873   yes:5647   1st Qu.:162.5  \n",
       " Median :14.00                                    Median :246.0  \n",
       " Mean   :14.61                                    Mean   :221.3  \n",
       " 3rd Qu.:15.00                                    3rd Qu.:275.0  \n",
       " Max.   :17.00                                    Max.   :339.0  \n",
       "     trend      \n",
       " Min.   : 1.00  \n",
       " 1st Qu.:10.00  \n",
       " Median :16.00  \n",
       " Mean   :15.93  \n",
       " 3rd Qu.:21.50  \n",
       " Max.   :35.00  "
      ]
     },
     "metadata": {},
     "output_type": "display_data"
    }
   ],
   "source": [
    "summary(cp) # Summarize the data of Basic computer dataset"
   ]
  },
  {
   "cell_type": "markdown",
   "metadata": {},
   "source": [
    "<pre>\n",
    "Giải thích các biến:\n",
    "    •\tMin.    X: giá trị nhỏ nhất là X.     \n",
    "    •\t1st Qu. X: 25% nhỏ hơn X.\n",
    "    •\tMedian  X: 50% nhỏ hơn X.     \n",
    "    •\tMean    X: trung bình là X.  \n",
    "    •\t3rd Qu. X: 75% nhỏ hơn X.  \n",
    "    •\tMax.    X: giá trị lớn nhất là X.  \n",
    "Trong đó các các categorical feature như: cd, multi, premium thì biểu thị tổng các giá trị 'yes', tổng các giá trị 'no'.\n",
    "</pre>"
   ]
  },
  {
   "cell_type": "code",
   "execution_count": 36,
   "metadata": {},
   "outputs": [
    {
     "data": {
      "text/html": [
       "<table>\n",
       "<caption>A matrix: 7 × 7 of type dbl</caption>\n",
       "<thead>\n",
       "\t<tr><th></th><th scope=col>price</th><th scope=col>speed</th><th scope=col>hd</th><th scope=col>ram</th><th scope=col>screen</th><th scope=col>ads</th><th scope=col>trend</th></tr>\n",
       "</thead>\n",
       "<tbody>\n",
       "\t<tr><th scope=row>price</th><td> 1.00000000</td><td> 0.3009765</td><td> 0.4302578</td><td> 0.6227482</td><td> 0.29604147</td><td> 0.05454047</td><td>-0.1999869</td></tr>\n",
       "\t<tr><th scope=row>speed</th><td> 0.30097646</td><td> 1.0000000</td><td> 0.3723041</td><td> 0.2347605</td><td> 0.18907412</td><td>-0.21523206</td><td> 0.4054383</td></tr>\n",
       "\t<tr><th scope=row>hd</th><td> 0.43025779</td><td> 0.3723041</td><td> 1.0000000</td><td> 0.7777263</td><td> 0.23280153</td><td>-0.32322200</td><td> 0.5777901</td></tr>\n",
       "\t<tr><th scope=row>ram</th><td> 0.62274824</td><td> 0.2347605</td><td> 0.7777263</td><td> 1.0000000</td><td> 0.20895374</td><td>-0.18166971</td><td> 0.2768438</td></tr>\n",
       "\t<tr><th scope=row>screen</th><td> 0.29604147</td><td> 0.1890741</td><td> 0.2328015</td><td> 0.2089537</td><td> 1.00000000</td><td>-0.09391943</td><td> 0.1886144</td></tr>\n",
       "\t<tr><th scope=row>ads</th><td> 0.05454047</td><td>-0.2152321</td><td>-0.3232220</td><td>-0.1816697</td><td>-0.09391943</td><td> 1.00000000</td><td>-0.3185525</td></tr>\n",
       "\t<tr><th scope=row>trend</th><td>-0.19998694</td><td> 0.4054383</td><td> 0.5777901</td><td> 0.2768438</td><td> 0.18861444</td><td>-0.31855251</td><td> 1.0000000</td></tr>\n",
       "</tbody>\n",
       "</table>\n"
      ],
      "text/latex": [
       "A matrix: 7 × 7 of type dbl\n",
       "\\begin{tabular}{r|lllllll}\n",
       "  & price & speed & hd & ram & screen & ads & trend\\\\\n",
       "\\hline\n",
       "\tprice &  1.00000000 &  0.3009765 &  0.4302578 &  0.6227482 &  0.29604147 &  0.05454047 & -0.1999869\\\\\n",
       "\tspeed &  0.30097646 &  1.0000000 &  0.3723041 &  0.2347605 &  0.18907412 & -0.21523206 &  0.4054383\\\\\n",
       "\thd &  0.43025779 &  0.3723041 &  1.0000000 &  0.7777263 &  0.23280153 & -0.32322200 &  0.5777901\\\\\n",
       "\tram &  0.62274824 &  0.2347605 &  0.7777263 &  1.0000000 &  0.20895374 & -0.18166971 &  0.2768438\\\\\n",
       "\tscreen &  0.29604147 &  0.1890741 &  0.2328015 &  0.2089537 &  1.00000000 & -0.09391943 &  0.1886144\\\\\n",
       "\tads &  0.05454047 & -0.2152321 & -0.3232220 & -0.1816697 & -0.09391943 &  1.00000000 & -0.3185525\\\\\n",
       "\ttrend & -0.19998694 &  0.4054383 &  0.5777901 &  0.2768438 &  0.18861444 & -0.31855251 &  1.0000000\\\\\n",
       "\\end{tabular}\n"
      ],
      "text/markdown": [
       "\n",
       "A matrix: 7 × 7 of type dbl\n",
       "\n",
       "| <!--/--> | price | speed | hd | ram | screen | ads | trend |\n",
       "|---|---|---|---|---|---|---|---|\n",
       "| price |  1.00000000 |  0.3009765 |  0.4302578 |  0.6227482 |  0.29604147 |  0.05454047 | -0.1999869 |\n",
       "| speed |  0.30097646 |  1.0000000 |  0.3723041 |  0.2347605 |  0.18907412 | -0.21523206 |  0.4054383 |\n",
       "| hd |  0.43025779 |  0.3723041 |  1.0000000 |  0.7777263 |  0.23280153 | -0.32322200 |  0.5777901 |\n",
       "| ram |  0.62274824 |  0.2347605 |  0.7777263 |  1.0000000 |  0.20895374 | -0.18166971 |  0.2768438 |\n",
       "| screen |  0.29604147 |  0.1890741 |  0.2328015 |  0.2089537 |  1.00000000 | -0.09391943 |  0.1886144 |\n",
       "| ads |  0.05454047 | -0.2152321 | -0.3232220 | -0.1816697 | -0.09391943 |  1.00000000 | -0.3185525 |\n",
       "| trend | -0.19998694 |  0.4054383 |  0.5777901 |  0.2768438 |  0.18861444 | -0.31855251 |  1.0000000 |\n",
       "\n"
      ],
      "text/plain": [
       "       price       speed      hd         ram        screen      ads        \n",
       "price   1.00000000  0.3009765  0.4302578  0.6227482  0.29604147  0.05454047\n",
       "speed   0.30097646  1.0000000  0.3723041  0.2347605  0.18907412 -0.21523206\n",
       "hd      0.43025779  0.3723041  1.0000000  0.7777263  0.23280153 -0.32322200\n",
       "ram     0.62274824  0.2347605  0.7777263  1.0000000  0.20895374 -0.18166971\n",
       "screen  0.29604147  0.1890741  0.2328015  0.2089537  1.00000000 -0.09391943\n",
       "ads     0.05454047 -0.2152321 -0.3232220 -0.1816697 -0.09391943  1.00000000\n",
       "trend  -0.19998694  0.4054383  0.5777901  0.2768438  0.18861444 -0.31855251\n",
       "       trend     \n",
       "price  -0.1999869\n",
       "speed   0.4054383\n",
       "hd      0.5777901\n",
       "ram     0.2768438\n",
       "screen  0.1886144\n",
       "ads    -0.3185525\n",
       "trend   1.0000000"
      ]
     },
     "metadata": {},
     "output_type": "display_data"
    }
   ],
   "source": [
    "cor(cp %>% select_if(is.numeric)) # Correlation of Basci Computer Dataset on numeric variables"
   ]
  },
  {
   "cell_type": "code",
   "execution_count": 74,
   "metadata": {},
   "outputs": [
    {
     "data": {
      "image/png": "[encoded data removed]",
      "text/plain": [
       "Plot with title \"\""
      ]
     },
     "metadata": {
      "image/png": {
       "height": 420,
       "width": 420
      },
      "text/plain": {
       "height": 420,
       "width": 420
      }
     },
     "output_type": "display_data"
    }
   ],
   "source": [
    "corrplot(cor(cp %>% select_if(is.numeric)) , method = \"number\")"
   ]
  },
  {
   "cell_type": "markdown",
   "metadata": {},
   "source": [
    "<pre>\n",
    "Chúng ta có thể nhận thấy mối tương quan giữa các feature:\n",
    "    •\tprice vs ram\n",
    "    •\tprice vs hd\n",
    "    •\tprice vs speed\n",
    "    •\tprice vs screen\n",
    "</pre>"
   ]
  },
  {
   "cell_type": "code",
   "execution_count": 84,
   "metadata": {},
   "outputs": [
    {
     "data": {
      "image/png": "[encoded data removed]",
      "text/plain": [
       "plot without title"
      ]
     },
     "metadata": {
      "image/png": {
       "height": 420,
       "width": 420
      },
      "text/plain": {
       "height": 420,
       "width": 420
      }
     },
     "output_type": "display_data"
    }
   ],
   "source": [
    "plot_speed <- ggplot(data = cp, aes(x = price, y = speed)) + geom_point()\n",
    "plot_hd <- ggplot(data = cp, aes(x = price, y = hd)) + geom_point()\n",
    "plot_ram <- ggplot(data = cp, aes(x = price, y = (ram))) + geom_point()\n",
    "plot_screen <- ggplot(data = cp, aes(x = price, y = screen)) + geom_point()\n",
    "plot_speed <- ggplot(data = cp, aes(x = price, y = speed)) + geom_point()\n",
    "plot_cd <- ggplot(data = cp, aes(x = price, y = cd)) + geom_point()\n",
    "plot_multi <- ggplot(data = cp, aes(x = price, y = multi)) + geom_point()\n",
    "plot_premium <- ggplot(data = cp, aes(x = price, y = premium)) + geom_point()\n",
    "plot_ads <- ggplot(data = cp, aes(x = price, y = ads)) + geom_point()\n",
    "plot_trend <- ggplot(data = cp, aes(x = price, y = trend)) + geom_point()\n",
    "plot_grid(plot_speed, plot_hd, plot_ram, plot_screen, plot_speed, plot_cd, plot_multi, plot_premium, plot_ads,plot_trend)"
   ]
  },
  {
   "cell_type": "markdown",
   "metadata": {},
   "source": [
    "<pre>\n",
    "Chúng ta có thể thầy là không có mối tương quan tuyến tính nào mạnh mẽ cả.\n",
    "</pre>"
   ]
  },
  {
   "cell_type": "code",
   "execution_count": null,
   "metadata": {},
   "outputs": [],
   "source": []
  }
 ],
 "metadata": {
  "kernelspec": {
   "display_name": "R",
   "language": "R",
   "name": "ir"
  },
  "language_info": {
   "codemirror_mode": "r",
   "file_extension": ".r",
   "mimetype": "text/x-r-source",
   "name": "R",
   "pygments_lexer": "r",
   "version": "3.6.3"
  }
 },
 "nbformat": 4,
 "nbformat_minor": 2
}
